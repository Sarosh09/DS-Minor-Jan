{
  "nbformat": 4,
  "nbformat_minor": 0,
  "metadata": {
    "colab": {
      "name": "Untitled3.ipynb",
      "provenance": [],
      "collapsed_sections": [],
      "mount_file_id": "1LztzcQnHMwEqsS2UFXZLnMB93GkYPWPB",
      "authorship_tag": "ABX9TyNeDx/LqK6hdrH93w492KmL",
      "include_colab_link": true
    },
    "kernelspec": {
      "name": "python3",
      "display_name": "Python 3"
    }
  },
  "cells": [
    {
      "cell_type": "markdown",
      "metadata": {
        "id": "view-in-github",
        "colab_type": "text"
      },
      "source": [
        "<a href=\"https://colab.research.google.com/github/Sarosh09/DS-Minor-Jan/blob/main/Untitled3.ipynb\" target=\"_parent\"><img src=\"https://colab.research.google.com/assets/colab-badge.svg\" alt=\"Open In Colab\"/></a>"
      ]
    },
    {
      "cell_type": "code",
      "metadata": {
        "id": "kkzgPCO7n0ys"
      },
      "source": [
        "import tensorflow as tf\r\n",
        "import os\r\n",
        "import numpy as np\r\n",
        "\r\n",
        "from matplotlib import pyplot as plt\r\n",
        "%matplotlib inline\r\n",
        "\r\n",
        "from pathlib import Path\r\n",
        "\r\n",
        "from sklearn import svm, metrics, datasets\r\n",
        "from sklearn.utils import Bunch\r\n",
        "from sklearn.model_selection import GridSearchCV, train_test_split\r\n",
        "\r\n",
        "from skimage.io import imread\r\n",
        "from skimage.transform import resize\r\n"
      ],
      "execution_count": 1,
      "outputs": []
    },
    {
      "cell_type": "code",
      "metadata": {
        "id": "S6qcQA38oSvb"
      },
      "source": [
        "def load_image_files(container_path, dimension=(64, 64)):\r\n",
        "    \"\"\"\r\n",
        "    Load image files with categories as subfolder names \r\n",
        "    which performs like scikit-learn sample dataset\r\n",
        "    \r\n",
        "    Parameters\r\n",
        "    ----------\r\n",
        "    container_path : string or unicode\r\n",
        "        Path to the main folder holding one subfolder per category\r\n",
        "    dimension : tuple\r\n",
        "        size to which image are adjusted to\r\n",
        "        \r\n",
        "    Returns\r\n",
        "    -------\r\n",
        "    Bunch\r\n",
        "    \"\"\"\r\n",
        "    image_dir = Path(container_path)\r\n",
        "    folders = [directory for directory in image_dir.iterdir() if directory.is_dir()]\r\n",
        "    categories = [fo.name for fo in folders]\r\n",
        "\r\n",
        "    descr = \"A image classification dataset\"\r\n",
        "    images = []\r\n",
        "    flat_data = []\r\n",
        "    target = []\r\n",
        "    for i, direc in enumerate(folders):\r\n",
        "        for file in direc.iterdir():\r\n",
        "            img = imread(file)\r\n",
        "            img_resized = resize(img, dimension, anti_aliasing=True, mode='reflect')\r\n",
        "            flat_data.append(img_resized.flatten()) \r\n",
        "            images.append(img_resized)\r\n",
        "            target.append(i)\r\n",
        "    flat_data = np.array(flat_data)\r\n",
        "    target = np.array(target)\r\n",
        "    images = np.array(images)\r\n",
        "\r\n",
        "    return Bunch(data=flat_data,\r\n",
        "                 target=target,\r\n",
        "                 target_names=categories,\r\n",
        "                 images=images,\r\n",
        "                 DESCR=descr)"
      ],
      "execution_count": 21,
      "outputs": []
    },
    {
      "cell_type": "code",
      "metadata": {
        "id": "BzOh7klzoXyU"
      },
      "source": [
        "image_dataset = load_image_files(\"/content/drive/MyDrive/minor project/images\")"
      ],
      "execution_count": 22,
      "outputs": []
    },
    {
      "cell_type": "code",
      "metadata": {
        "colab": {
          "base_uri": "https://localhost:8080/"
        },
        "id": "1yVxL1nboeWt",
        "outputId": "3bf9dbb9-2dd7-4d25-f654-4f11028c55c8"
      },
      "source": [
        "X_train, X_test, y_train, y_test = train_test_split(\r\n",
        "    image_dataset.data, image_dataset.target, test_size=0.3,random_state=109)\r\n",
        "\r\n",
        "print(X_train, X_test, y_train, y_test)"
      ],
      "execution_count": 23,
      "outputs": [
        {
          "output_type": "stream",
          "text": [
            "[[1.         1.         1.         ... 1.         1.         1.        ]\n",
            " [1.         1.         1.         ... 1.         1.         1.        ]\n",
            " [0.76201172 0.78664216 0.85140931 ... 0.86960593 0.77781671 0.6995098 ]\n",
            " ...\n",
            " [0.9372549  0.9372549  0.9372549  ... 0.95294118 0.95686275 0.96470588]\n",
            " [0.99607843 0.99607843 0.99215686 ... 1.         1.         1.        ]\n",
            " [0.08543103 0.22795745 0.14817613 ... 0.27291667 0.23370098 0.18664216]] [[0.99215686 0.99215686 0.99215686 ... 0.99607843 0.99607843 0.99607843]\n",
            " [0.98823529 0.98823529 0.98823529 ... 0.99607843 0.99607843 0.99607843]\n",
            " [0.61176471 0.57254902 0.56470588 ... 0.53959769 0.49782284 0.46164024]\n",
            " ...\n",
            " [0.50980392 0.5254902  0.63921569 ... 0.42971814 0.44148284 0.51599265]\n",
            " [0.97052217 0.95545343 0.88547794 ... 0.0392109  0.02352941 0.05098039]\n",
            " [0.1764457  0.20389668 0.21173981 ... 0.10692689 0.2627451  0.05603554]] [1 1 0 1 0 1 1 1 1 0 0 1 1 0 1 0 1 1 0 1 1 1 0 0 1 0 0 0 1 0 1 0 1 0 1 0 0\n",
            " 1 0 1 1 0] [0 0 0 1 0 0 1 0 0 1 1 1 1 0 1 0 0 0]\n"
          ],
          "name": "stdout"
        }
      ]
    },
    {
      "cell_type": "code",
      "metadata": {
        "colab": {
          "base_uri": "https://localhost:8080/"
        },
        "id": "TjWc7syXotwl",
        "outputId": "4e64f80b-3349-4bc1-d9d8-9a945bfcf338"
      },
      "source": [
        "param_grid = [\r\n",
        "  {'C': [1, 10, 100, 1000], 'kernel': ['linear']},\r\n",
        "  {'C': [1, 10, 100, 1000], 'gamma': [0.001, 0.0001], 'kernel': ['rbf']},\r\n",
        " ]\r\n",
        "svc = svm.SVC()\r\n",
        "clf = GridSearchCV(svc, param_grid)\r\n",
        "clf.fit(X_train, y_train)\r\n"
      ],
      "execution_count": 24,
      "outputs": [
        {
          "output_type": "execute_result",
          "data": {
            "text/plain": [
              "GridSearchCV(cv=None, error_score=nan,\n",
              "             estimator=SVC(C=1.0, break_ties=False, cache_size=200,\n",
              "                           class_weight=None, coef0=0.0,\n",
              "                           decision_function_shape='ovr', degree=3,\n",
              "                           gamma='scale', kernel='rbf', max_iter=-1,\n",
              "                           probability=False, random_state=None, shrinking=True,\n",
              "                           tol=0.001, verbose=False),\n",
              "             iid='deprecated', n_jobs=None,\n",
              "             param_grid=[{'C': [1, 10, 100, 1000], 'kernel': ['linear']},\n",
              "                         {'C': [1, 10, 100, 1000], 'gamma': [0.001, 0.0001],\n",
              "                          'kernel': ['rbf']}],\n",
              "             pre_dispatch='2*n_jobs', refit=True, return_train_score=False,\n",
              "             scoring=None, verbose=0)"
            ]
          },
          "metadata": {
            "tags": []
          },
          "execution_count": 24
        }
      ]
    },
    {
      "cell_type": "code",
      "metadata": {
        "colab": {
          "base_uri": "https://localhost:8080/"
        },
        "id": "E-7PG1rAoxTT",
        "outputId": "a8cdc2d9-df11-4697-9c08-293a846b791b"
      },
      "source": [
        "y_pred = clf.predict(X_test)\r\n",
        "y_pred"
      ],
      "execution_count": 25,
      "outputs": [
        {
          "output_type": "execute_result",
          "data": {
            "text/plain": [
              "array([0, 0, 0, 1, 0, 0, 1, 0, 1, 1, 1, 1, 1, 0, 1, 0, 0, 0])"
            ]
          },
          "metadata": {
            "tags": []
          },
          "execution_count": 25
        }
      ]
    },
    {
      "cell_type": "code",
      "metadata": {
        "colab": {
          "base_uri": "https://localhost:8080/"
        },
        "id": "nGydVO3Io0hI",
        "outputId": "5ccedd19-1c61-4395-ec44-fe718c700415"
      },
      "source": [
        "print(\"Classification report for - \\n{}:\\n{}\\n\".format(\r\n",
        "    clf, metrics.classification_report(y_test, y_pred)))"
      ],
      "execution_count": 26,
      "outputs": [
        {
          "output_type": "stream",
          "text": [
            "Classification report for - \n",
            "GridSearchCV(cv=None, error_score=nan,\n",
            "             estimator=SVC(C=1.0, break_ties=False, cache_size=200,\n",
            "                           class_weight=None, coef0=0.0,\n",
            "                           decision_function_shape='ovr', degree=3,\n",
            "                           gamma='scale', kernel='rbf', max_iter=-1,\n",
            "                           probability=False, random_state=None, shrinking=True,\n",
            "                           tol=0.001, verbose=False),\n",
            "             iid='deprecated', n_jobs=None,\n",
            "             param_grid=[{'C': [1, 10, 100, 1000], 'kernel': ['linear']},\n",
            "                         {'C': [1, 10, 100, 1000], 'gamma': [0.001, 0.0001],\n",
            "                          'kernel': ['rbf']}],\n",
            "             pre_dispatch='2*n_jobs', refit=True, return_train_score=False,\n",
            "             scoring=None, verbose=0):\n",
            "              precision    recall  f1-score   support\n",
            "\n",
            "           0       1.00      0.91      0.95        11\n",
            "           1       0.88      1.00      0.93         7\n",
            "\n",
            "    accuracy                           0.94        18\n",
            "   macro avg       0.94      0.95      0.94        18\n",
            "weighted avg       0.95      0.94      0.94        18\n",
            "\n",
            "\n"
          ],
          "name": "stdout"
        }
      ]
    },
    {
      "cell_type": "code",
      "metadata": {
        "colab": {
          "base_uri": "https://localhost:8080/"
        },
        "id": "XGxrLwUWo3BH",
        "outputId": "0566645d-f281-4e11-daa2-45d634938fc3"
      },
      "source": [
        "from sklearn.metrics import confusion_matrix\r\n",
        "confusion_matrix(y_test, y_pred)"
      ],
      "execution_count": 27,
      "outputs": [
        {
          "output_type": "execute_result",
          "data": {
            "text/plain": [
              "array([[10,  1],\n",
              "       [ 0,  7]])"
            ]
          },
          "metadata": {
            "tags": []
          },
          "execution_count": 27
        }
      ]
    },
    {
      "cell_type": "code",
      "metadata": {
        "id": "_7jbEZQJ9tPg"
      },
      "source": [
        ""
      ],
      "execution_count": null,
      "outputs": []
    }
  ]
}